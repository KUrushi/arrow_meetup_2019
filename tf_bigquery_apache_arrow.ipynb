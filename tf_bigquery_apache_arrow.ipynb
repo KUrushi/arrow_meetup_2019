{
  "nbformat": 4,
  "nbformat_minor": 0,
  "metadata": {
    "colab": {
      "name": "tf_bigquery_apache_arrow.ipynb",
      "provenance": [],
      "collapsed_sections": [],
      "machine_shape": "hm"
    },
    "kernelspec": {
      "name": "python3",
      "display_name": "Python 3"
    },
    "accelerator": "GPU",
    "widgets": {
      "application/vnd.jupyter.widget-state+json": {
        "b8f22461507047068bfaa2c267ce2dc5": {
          "model_module": "@jupyter-widgets/controls",
          "model_name": "HBoxModel",
          "state": {
            "_view_name": "HBoxView",
            "_dom_classes": [],
            "_model_name": "HBoxModel",
            "_view_module": "@jupyter-widgets/controls",
            "_model_module_version": "1.5.0",
            "_view_count": null,
            "_view_module_version": "1.5.0",
            "box_style": "",
            "layout": "IPY_MODEL_5a1407991d4946c18fb62ac1a315e2e1",
            "_model_module": "@jupyter-widgets/controls",
            "children": [
              "IPY_MODEL_547c96a580164c5b83488ea5384b9cf0",
              "IPY_MODEL_48ff61096c78459dacf411e10cf3d63e"
            ]
          }
        },
        "5a1407991d4946c18fb62ac1a315e2e1": {
          "model_module": "@jupyter-widgets/base",
          "model_name": "LayoutModel",
          "state": {
            "_view_name": "LayoutView",
            "grid_template_rows": null,
            "right": null,
            "justify_content": null,
            "_view_module": "@jupyter-widgets/base",
            "overflow": null,
            "_model_module_version": "1.2.0",
            "_view_count": null,
            "flex_flow": null,
            "width": null,
            "min_width": null,
            "border": null,
            "align_items": null,
            "bottom": null,
            "_model_module": "@jupyter-widgets/base",
            "top": null,
            "grid_column": null,
            "overflow_y": null,
            "overflow_x": null,
            "grid_auto_flow": null,
            "grid_area": null,
            "grid_template_columns": null,
            "flex": null,
            "_model_name": "LayoutModel",
            "justify_items": null,
            "grid_row": null,
            "max_height": null,
            "align_content": null,
            "visibility": null,
            "align_self": null,
            "height": null,
            "min_height": null,
            "padding": null,
            "grid_auto_rows": null,
            "grid_gap": null,
            "max_width": null,
            "order": null,
            "_view_module_version": "1.2.0",
            "grid_template_areas": null,
            "object_position": null,
            "object_fit": null,
            "grid_auto_columns": null,
            "margin": null,
            "display": null,
            "left": null
          }
        },
        "547c96a580164c5b83488ea5384b9cf0": {
          "model_module": "@jupyter-widgets/controls",
          "model_name": "IntProgressModel",
          "state": {
            "_view_name": "ProgressView",
            "style": "IPY_MODEL_092642d60de24a70ae7f8fe21632f378",
            "_dom_classes": [],
            "description": "Downloading",
            "_model_name": "IntProgressModel",
            "bar_style": "success",
            "max": 9419696,
            "_view_module": "@jupyter-widgets/controls",
            "_model_module_version": "1.5.0",
            "value": 9419696,
            "_view_count": null,
            "_view_module_version": "1.5.0",
            "orientation": "horizontal",
            "min": 0,
            "description_tooltip": null,
            "_model_module": "@jupyter-widgets/controls",
            "layout": "IPY_MODEL_96b9cd986d5c4ba5a335402d68934e6c"
          }
        },
        "48ff61096c78459dacf411e10cf3d63e": {
          "model_module": "@jupyter-widgets/controls",
          "model_name": "HTMLModel",
          "state": {
            "_view_name": "HTMLView",
            "style": "IPY_MODEL_f0414677e50b4596a15e6227cff8f25c",
            "_dom_classes": [],
            "description": "",
            "_model_name": "HTMLModel",
            "placeholder": "​",
            "_view_module": "@jupyter-widgets/controls",
            "_model_module_version": "1.5.0",
            "value": "100% 9419696/9419696 [04:09&lt;00:00, 37720.88rows/s]",
            "_view_count": null,
            "_view_module_version": "1.5.0",
            "description_tooltip": null,
            "_model_module": "@jupyter-widgets/controls",
            "layout": "IPY_MODEL_79c7949dd30e4958ba7bfc231a3716fb"
          }
        },
        "092642d60de24a70ae7f8fe21632f378": {
          "model_module": "@jupyter-widgets/controls",
          "model_name": "ProgressStyleModel",
          "state": {
            "_view_name": "StyleView",
            "_model_name": "ProgressStyleModel",
            "description_width": "initial",
            "_view_module": "@jupyter-widgets/base",
            "_model_module_version": "1.5.0",
            "_view_count": null,
            "_view_module_version": "1.2.0",
            "bar_color": null,
            "_model_module": "@jupyter-widgets/controls"
          }
        },
        "96b9cd986d5c4ba5a335402d68934e6c": {
          "model_module": "@jupyter-widgets/base",
          "model_name": "LayoutModel",
          "state": {
            "_view_name": "LayoutView",
            "grid_template_rows": null,
            "right": null,
            "justify_content": null,
            "_view_module": "@jupyter-widgets/base",
            "overflow": null,
            "_model_module_version": "1.2.0",
            "_view_count": null,
            "flex_flow": null,
            "width": null,
            "min_width": null,
            "border": null,
            "align_items": null,
            "bottom": null,
            "_model_module": "@jupyter-widgets/base",
            "top": null,
            "grid_column": null,
            "overflow_y": null,
            "overflow_x": null,
            "grid_auto_flow": null,
            "grid_area": null,
            "grid_template_columns": null,
            "flex": null,
            "_model_name": "LayoutModel",
            "justify_items": null,
            "grid_row": null,
            "max_height": null,
            "align_content": null,
            "visibility": null,
            "align_self": null,
            "height": null,
            "min_height": null,
            "padding": null,
            "grid_auto_rows": null,
            "grid_gap": null,
            "max_width": null,
            "order": null,
            "_view_module_version": "1.2.0",
            "grid_template_areas": null,
            "object_position": null,
            "object_fit": null,
            "grid_auto_columns": null,
            "margin": null,
            "display": null,
            "left": null
          }
        },
        "f0414677e50b4596a15e6227cff8f25c": {
          "model_module": "@jupyter-widgets/controls",
          "model_name": "DescriptionStyleModel",
          "state": {
            "_view_name": "StyleView",
            "_model_name": "DescriptionStyleModel",
            "description_width": "",
            "_view_module": "@jupyter-widgets/base",
            "_model_module_version": "1.5.0",
            "_view_count": null,
            "_view_module_version": "1.2.0",
            "_model_module": "@jupyter-widgets/controls"
          }
        },
        "79c7949dd30e4958ba7bfc231a3716fb": {
          "model_module": "@jupyter-widgets/base",
          "model_name": "LayoutModel",
          "state": {
            "_view_name": "LayoutView",
            "grid_template_rows": null,
            "right": null,
            "justify_content": null,
            "_view_module": "@jupyter-widgets/base",
            "overflow": null,
            "_model_module_version": "1.2.0",
            "_view_count": null,
            "flex_flow": null,
            "width": null,
            "min_width": null,
            "border": null,
            "align_items": null,
            "bottom": null,
            "_model_module": "@jupyter-widgets/base",
            "top": null,
            "grid_column": null,
            "overflow_y": null,
            "overflow_x": null,
            "grid_auto_flow": null,
            "grid_area": null,
            "grid_template_columns": null,
            "flex": null,
            "_model_name": "LayoutModel",
            "justify_items": null,
            "grid_row": null,
            "max_height": null,
            "align_content": null,
            "visibility": null,
            "align_self": null,
            "height": null,
            "min_height": null,
            "padding": null,
            "grid_auto_rows": null,
            "grid_gap": null,
            "max_width": null,
            "order": null,
            "_view_module_version": "1.2.0",
            "grid_template_areas": null,
            "object_position": null,
            "object_fit": null,
            "grid_auto_columns": null,
            "margin": null,
            "display": null,
            "left": null
          }
        },
        "022b313e73004d68821800a101fc0809": {
          "model_module": "@jupyter-widgets/controls",
          "model_name": "HBoxModel",
          "state": {
            "_view_name": "HBoxView",
            "_dom_classes": [],
            "_model_name": "HBoxModel",
            "_view_module": "@jupyter-widgets/controls",
            "_model_module_version": "1.5.0",
            "_view_count": null,
            "_view_module_version": "1.5.0",
            "box_style": "",
            "layout": "IPY_MODEL_d44e12ac842b465daf6d5f845827e45c",
            "_model_module": "@jupyter-widgets/controls",
            "children": [
              "IPY_MODEL_6b89bb9b246948509e1dc942e1c66543",
              "IPY_MODEL_1e5c20627b0a4248ba3e416eb705ba13"
            ]
          }
        },
        "d44e12ac842b465daf6d5f845827e45c": {
          "model_module": "@jupyter-widgets/base",
          "model_name": "LayoutModel",
          "state": {
            "_view_name": "LayoutView",
            "grid_template_rows": null,
            "right": null,
            "justify_content": null,
            "_view_module": "@jupyter-widgets/base",
            "overflow": null,
            "_model_module_version": "1.2.0",
            "_view_count": null,
            "flex_flow": null,
            "width": null,
            "min_width": null,
            "border": null,
            "align_items": null,
            "bottom": null,
            "_model_module": "@jupyter-widgets/base",
            "top": null,
            "grid_column": null,
            "overflow_y": null,
            "overflow_x": null,
            "grid_auto_flow": null,
            "grid_area": null,
            "grid_template_columns": null,
            "flex": null,
            "_model_name": "LayoutModel",
            "justify_items": null,
            "grid_row": null,
            "max_height": null,
            "align_content": null,
            "visibility": null,
            "align_self": null,
            "height": null,
            "min_height": null,
            "padding": null,
            "grid_auto_rows": null,
            "grid_gap": null,
            "max_width": null,
            "order": null,
            "_view_module_version": "1.2.0",
            "grid_template_areas": null,
            "object_position": null,
            "object_fit": null,
            "grid_auto_columns": null,
            "margin": null,
            "display": null,
            "left": null
          }
        },
        "6b89bb9b246948509e1dc942e1c66543": {
          "model_module": "@jupyter-widgets/controls",
          "model_name": "IntProgressModel",
          "state": {
            "_view_name": "ProgressView",
            "style": "IPY_MODEL_68f5cc1f55c8429d829d9249dbad6124",
            "_dom_classes": [],
            "description": "Downloading",
            "_model_name": "IntProgressModel",
            "bar_style": "success",
            "max": 9419696,
            "_view_module": "@jupyter-widgets/controls",
            "_model_module_version": "1.5.0",
            "value": 9419696,
            "_view_count": null,
            "_view_module_version": "1.5.0",
            "orientation": "horizontal",
            "min": 0,
            "description_tooltip": null,
            "_model_module": "@jupyter-widgets/controls",
            "layout": "IPY_MODEL_4b35b671ec484b5eb1023adbd1837bb6"
          }
        },
        "1e5c20627b0a4248ba3e416eb705ba13": {
          "model_module": "@jupyter-widgets/controls",
          "model_name": "HTMLModel",
          "state": {
            "_view_name": "HTMLView",
            "style": "IPY_MODEL_53739d4d068d47e6a87e7dae0a5974c5",
            "_dom_classes": [],
            "description": "",
            "_model_name": "HTMLModel",
            "placeholder": "​",
            "_view_module": "@jupyter-widgets/controls",
            "_model_module_version": "1.5.0",
            "value": "100% 9419696/9419696 [04:10&lt;00:00, 37609.84rows/s]",
            "_view_count": null,
            "_view_module_version": "1.5.0",
            "description_tooltip": null,
            "_model_module": "@jupyter-widgets/controls",
            "layout": "IPY_MODEL_1501d1bbf3a64426a5a9a9727fbc39ab"
          }
        },
        "68f5cc1f55c8429d829d9249dbad6124": {
          "model_module": "@jupyter-widgets/controls",
          "model_name": "ProgressStyleModel",
          "state": {
            "_view_name": "StyleView",
            "_model_name": "ProgressStyleModel",
            "description_width": "initial",
            "_view_module": "@jupyter-widgets/base",
            "_model_module_version": "1.5.0",
            "_view_count": null,
            "_view_module_version": "1.2.0",
            "bar_color": null,
            "_model_module": "@jupyter-widgets/controls"
          }
        },
        "4b35b671ec484b5eb1023adbd1837bb6": {
          "model_module": "@jupyter-widgets/base",
          "model_name": "LayoutModel",
          "state": {
            "_view_name": "LayoutView",
            "grid_template_rows": null,
            "right": null,
            "justify_content": null,
            "_view_module": "@jupyter-widgets/base",
            "overflow": null,
            "_model_module_version": "1.2.0",
            "_view_count": null,
            "flex_flow": null,
            "width": null,
            "min_width": null,
            "border": null,
            "align_items": null,
            "bottom": null,
            "_model_module": "@jupyter-widgets/base",
            "top": null,
            "grid_column": null,
            "overflow_y": null,
            "overflow_x": null,
            "grid_auto_flow": null,
            "grid_area": null,
            "grid_template_columns": null,
            "flex": null,
            "_model_name": "LayoutModel",
            "justify_items": null,
            "grid_row": null,
            "max_height": null,
            "align_content": null,
            "visibility": null,
            "align_self": null,
            "height": null,
            "min_height": null,
            "padding": null,
            "grid_auto_rows": null,
            "grid_gap": null,
            "max_width": null,
            "order": null,
            "_view_module_version": "1.2.0",
            "grid_template_areas": null,
            "object_position": null,
            "object_fit": null,
            "grid_auto_columns": null,
            "margin": null,
            "display": null,
            "left": null
          }
        },
        "53739d4d068d47e6a87e7dae0a5974c5": {
          "model_module": "@jupyter-widgets/controls",
          "model_name": "DescriptionStyleModel",
          "state": {
            "_view_name": "StyleView",
            "_model_name": "DescriptionStyleModel",
            "description_width": "",
            "_view_module": "@jupyter-widgets/base",
            "_model_module_version": "1.5.0",
            "_view_count": null,
            "_view_module_version": "1.2.0",
            "_model_module": "@jupyter-widgets/controls"
          }
        },
        "1501d1bbf3a64426a5a9a9727fbc39ab": {
          "model_module": "@jupyter-widgets/base",
          "model_name": "LayoutModel",
          "state": {
            "_view_name": "LayoutView",
            "grid_template_rows": null,
            "right": null,
            "justify_content": null,
            "_view_module": "@jupyter-widgets/base",
            "overflow": null,
            "_model_module_version": "1.2.0",
            "_view_count": null,
            "flex_flow": null,
            "width": null,
            "min_width": null,
            "border": null,
            "align_items": null,
            "bottom": null,
            "_model_module": "@jupyter-widgets/base",
            "top": null,
            "grid_column": null,
            "overflow_y": null,
            "overflow_x": null,
            "grid_auto_flow": null,
            "grid_area": null,
            "grid_template_columns": null,
            "flex": null,
            "_model_name": "LayoutModel",
            "justify_items": null,
            "grid_row": null,
            "max_height": null,
            "align_content": null,
            "visibility": null,
            "align_self": null,
            "height": null,
            "min_height": null,
            "padding": null,
            "grid_auto_rows": null,
            "grid_gap": null,
            "max_width": null,
            "order": null,
            "_view_module_version": "1.2.0",
            "grid_template_areas": null,
            "object_position": null,
            "object_fit": null,
            "grid_auto_columns": null,
            "margin": null,
            "display": null,
            "left": null
          }
        }
      }
    }
  },
  "cells": [
    {
      "cell_type": "code",
      "metadata": {
        "id": "PHXLFhnhpqTh",
        "colab_type": "code",
        "colab": {
          "base_uri": "https://localhost:8080/",
          "height": 1000
        },
        "outputId": "8f5b9bda-edf3-4df9-ea09-790d0ae3f8ce"
      },
      "source": [
        "! pip install --upgrade google-cloud-bigquery[bqstorage,pandas]\n",
        "! pip install tensorflow-io-nightly\n",
        "! pip install -U tensorflow\n",
        "! pip install -U tensorboard\n",
        "!pip install hyperdash\n",
        "!mkdir tf_logs"
      ],
      "execution_count": null,
      "outputs": [
        {
          "output_type": "stream",
          "text": [
            "Collecting google-cloud-bigquery[bqstorage,pandas]\n",
            "\u001b[?25l  Downloading https://files.pythonhosted.org/packages/61/b1/51d389b239ce882866f28f027f7b1b9b0aa91f8b87fc9e168141719a002b/google_cloud_bigquery-1.22.0-py2.py3-none-any.whl (161kB)\n",
            "\r\u001b[K     |██                              | 10kB 24.3MB/s eta 0:00:01\r\u001b[K     |████                            | 20kB 3.1MB/s eta 0:00:01\r\u001b[K     |██████                          | 30kB 4.5MB/s eta 0:00:01\r\u001b[K     |████████                        | 40kB 2.9MB/s eta 0:00:01\r\u001b[K     |██████████▏                     | 51kB 3.6MB/s eta 0:00:01\r\u001b[K     |████████████▏                   | 61kB 4.3MB/s eta 0:00:01\r\u001b[K     |██████████████▏                 | 71kB 4.4MB/s eta 0:00:01\r\u001b[K     |████████████████▏               | 81kB 4.9MB/s eta 0:00:01\r\u001b[K     |██████████████████▎             | 92kB 5.4MB/s eta 0:00:01\r\u001b[K     |████████████████████▎           | 102kB 4.8MB/s eta 0:00:01\r\u001b[K     |██████████████████████▎         | 112kB 4.8MB/s eta 0:00:01\r\u001b[K     |████████████████████████▎       | 122kB 4.8MB/s eta 0:00:01\r\u001b[K     |██████████████████████████▎     | 133kB 4.8MB/s eta 0:00:01\r\u001b[K     |████████████████████████████▍   | 143kB 4.8MB/s eta 0:00:01\r\u001b[K     |██████████████████████████████▍ | 153kB 4.8MB/s eta 0:00:01\r\u001b[K     |████████████████████████████████| 163kB 4.8MB/s \n",
            "\u001b[?25hRequirement already satisfied, skipping upgrade: google-resumable-media!=0.4.0,<0.6.0dev,>=0.3.1 in /usr/local/lib/python3.6/dist-packages (from google-cloud-bigquery[bqstorage,pandas]) (0.4.1)\n",
            "Requirement already satisfied, skipping upgrade: protobuf>=3.6.0 in /usr/local/lib/python3.6/dist-packages (from google-cloud-bigquery[bqstorage,pandas]) (3.10.0)\n",
            "Requirement already satisfied, skipping upgrade: google-cloud-core<2.0dev,>=1.0.3 in /usr/local/lib/python3.6/dist-packages (from google-cloud-bigquery[bqstorage,pandas]) (1.0.3)\n",
            "Collecting google-cloud-bigquery-storage<2.0.0dev,>=0.6.0; extra == \"bqstorage\"\n",
            "\u001b[?25l  Downloading https://files.pythonhosted.org/packages/bf/48/b42fc39a4141a9493a969d81fb2f9f75d089d5eeedabe912c22ec8a31f4d/google_cloud_bigquery_storage-0.7.0-py2.py3-none-any.whl (55kB)\n",
            "\u001b[K     |████████████████████████████████| 61kB 7.6MB/s \n",
            "\u001b[?25hRequirement already satisfied, skipping upgrade: pyarrow!=0.14.0,>=0.13.0; extra == \"bqstorage\" in /usr/local/lib/python3.6/dist-packages (from google-cloud-bigquery[bqstorage,pandas]) (0.14.1)\n",
            "Requirement already satisfied, skipping upgrade: pandas>=0.17.1; extra == \"pandas\" in /usr/local/lib/python3.6/dist-packages (from google-cloud-bigquery[bqstorage,pandas]) (0.25.3)\n",
            "Requirement already satisfied, skipping upgrade: six in /usr/local/lib/python3.6/dist-packages (from google-resumable-media!=0.4.0,<0.6.0dev,>=0.3.1->google-cloud-bigquery[bqstorage,pandas]) (1.12.0)\n",
            "Requirement already satisfied, skipping upgrade: setuptools in /usr/local/lib/python3.6/dist-packages (from protobuf>=3.6.0->google-cloud-bigquery[bqstorage,pandas]) (41.6.0)\n",
            "Requirement already satisfied, skipping upgrade: google-api-core<2.0.0dev,>=1.14.0 in /usr/local/lib/python3.6/dist-packages (from google-cloud-core<2.0dev,>=1.0.3->google-cloud-bigquery[bqstorage,pandas]) (1.14.3)\n",
            "Requirement already satisfied, skipping upgrade: numpy>=1.14 in /usr/local/lib/python3.6/dist-packages (from pyarrow!=0.14.0,>=0.13.0; extra == \"bqstorage\"->google-cloud-bigquery[bqstorage,pandas]) (1.17.4)\n",
            "Requirement already satisfied, skipping upgrade: python-dateutil>=2.6.1 in /usr/local/lib/python3.6/dist-packages (from pandas>=0.17.1; extra == \"pandas\"->google-cloud-bigquery[bqstorage,pandas]) (2.6.1)\n",
            "Requirement already satisfied, skipping upgrade: pytz>=2017.2 in /usr/local/lib/python3.6/dist-packages (from pandas>=0.17.1; extra == \"pandas\"->google-cloud-bigquery[bqstorage,pandas]) (2018.9)\n",
            "Requirement already satisfied, skipping upgrade: requests<3.0.0dev,>=2.18.0 in /usr/local/lib/python3.6/dist-packages (from google-api-core<2.0.0dev,>=1.14.0->google-cloud-core<2.0dev,>=1.0.3->google-cloud-bigquery[bqstorage,pandas]) (2.21.0)\n",
            "Requirement already satisfied, skipping upgrade: googleapis-common-protos<2.0dev,>=1.6.0 in /usr/local/lib/python3.6/dist-packages (from google-api-core<2.0.0dev,>=1.14.0->google-cloud-core<2.0dev,>=1.0.3->google-cloud-bigquery[bqstorage,pandas]) (1.6.0)\n",
            "Requirement already satisfied, skipping upgrade: google-auth<2.0dev,>=0.4.0 in /usr/local/lib/python3.6/dist-packages (from google-api-core<2.0.0dev,>=1.14.0->google-cloud-core<2.0dev,>=1.0.3->google-cloud-bigquery[bqstorage,pandas]) (1.4.2)\n",
            "Requirement already satisfied, skipping upgrade: urllib3<1.25,>=1.21.1 in /usr/local/lib/python3.6/dist-packages (from requests<3.0.0dev,>=2.18.0->google-api-core<2.0.0dev,>=1.14.0->google-cloud-core<2.0dev,>=1.0.3->google-cloud-bigquery[bqstorage,pandas]) (1.24.3)\n",
            "Requirement already satisfied, skipping upgrade: chardet<3.1.0,>=3.0.2 in /usr/local/lib/python3.6/dist-packages (from requests<3.0.0dev,>=2.18.0->google-api-core<2.0.0dev,>=1.14.0->google-cloud-core<2.0dev,>=1.0.3->google-cloud-bigquery[bqstorage,pandas]) (3.0.4)\n",
            "Requirement already satisfied, skipping upgrade: idna<2.9,>=2.5 in /usr/local/lib/python3.6/dist-packages (from requests<3.0.0dev,>=2.18.0->google-api-core<2.0.0dev,>=1.14.0->google-cloud-core<2.0dev,>=1.0.3->google-cloud-bigquery[bqstorage,pandas]) (2.8)\n",
            "Requirement already satisfied, skipping upgrade: certifi>=2017.4.17 in /usr/local/lib/python3.6/dist-packages (from requests<3.0.0dev,>=2.18.0->google-api-core<2.0.0dev,>=1.14.0->google-cloud-core<2.0dev,>=1.0.3->google-cloud-bigquery[bqstorage,pandas]) (2019.9.11)\n",
            "Requirement already satisfied, skipping upgrade: cachetools>=2.0.0 in /usr/local/lib/python3.6/dist-packages (from google-auth<2.0dev,>=0.4.0->google-api-core<2.0.0dev,>=1.14.0->google-cloud-core<2.0dev,>=1.0.3->google-cloud-bigquery[bqstorage,pandas]) (3.1.1)\n",
            "Requirement already satisfied, skipping upgrade: rsa>=3.1.4 in /usr/local/lib/python3.6/dist-packages (from google-auth<2.0dev,>=0.4.0->google-api-core<2.0.0dev,>=1.14.0->google-cloud-core<2.0dev,>=1.0.3->google-cloud-bigquery[bqstorage,pandas]) (4.0)\n",
            "Requirement already satisfied, skipping upgrade: pyasn1-modules>=0.2.1 in /usr/local/lib/python3.6/dist-packages (from google-auth<2.0dev,>=0.4.0->google-api-core<2.0.0dev,>=1.14.0->google-cloud-core<2.0dev,>=1.0.3->google-cloud-bigquery[bqstorage,pandas]) (0.2.7)\n",
            "Requirement already satisfied, skipping upgrade: pyasn1>=0.1.3 in /usr/local/lib/python3.6/dist-packages (from rsa>=3.1.4->google-auth<2.0dev,>=0.4.0->google-api-core<2.0.0dev,>=1.14.0->google-cloud-core<2.0dev,>=1.0.3->google-cloud-bigquery[bqstorage,pandas]) (0.4.7)\n",
            "Installing collected packages: google-cloud-bigquery-storage, google-cloud-bigquery\n",
            "  Found existing installation: google-cloud-bigquery 1.21.0\n",
            "    Uninstalling google-cloud-bigquery-1.21.0:\n",
            "      Successfully uninstalled google-cloud-bigquery-1.21.0\n",
            "Successfully installed google-cloud-bigquery-1.22.0 google-cloud-bigquery-storage-0.7.0\n"
          ],
          "name": "stdout"
        },
        {
          "output_type": "display_data",
          "data": {
            "application/vnd.colab-display-data+json": {
              "pip_warning": {
                "packages": [
                  "google"
                ]
              }
            }
          },
          "metadata": {
            "tags": []
          }
        },
        {
          "output_type": "stream",
          "text": [
            "Collecting tensorflow-io-nightly\n",
            "\u001b[?25l  Downloading https://files.pythonhosted.org/packages/4c/af/ed597e9208298517248d87af7369ea39d708dafb4de95da2b4c8c1791e71/tensorflow_io_nightly-0.10.0.dev2254-cp36-cp36m-manylinux2010_x86_64.whl (24.8MB)\n",
            "\u001b[K     |████████████████████████████████| 24.8MB 1.6MB/s \n",
            "\u001b[?25hCollecting tensorflow<2.1.0,>=2.0.0\n",
            "\u001b[?25l  Downloading https://files.pythonhosted.org/packages/46/0f/7bd55361168bb32796b360ad15a25de6966c9c1beb58a8e30c01c8279862/tensorflow-2.0.0-cp36-cp36m-manylinux2010_x86_64.whl (86.3MB)\n",
            "\u001b[K     |████████████████████████████████| 86.3MB 59kB/s \n",
            "\u001b[?25hRequirement already satisfied: keras-applications>=1.0.8 in /usr/local/lib/python3.6/dist-packages (from tensorflow<2.1.0,>=2.0.0->tensorflow-io-nightly) (1.0.8)\n",
            "Requirement already satisfied: absl-py>=0.7.0 in /usr/local/lib/python3.6/dist-packages (from tensorflow<2.1.0,>=2.0.0->tensorflow-io-nightly) (0.8.1)\n",
            "Requirement already satisfied: numpy<2.0,>=1.16.0 in /usr/local/lib/python3.6/dist-packages (from tensorflow<2.1.0,>=2.0.0->tensorflow-io-nightly) (1.17.4)\n",
            "Collecting tensorboard<2.1.0,>=2.0.0\n",
            "\u001b[?25l  Downloading https://files.pythonhosted.org/packages/76/54/99b9d5d52d5cb732f099baaaf7740403e83fe6b0cedde940fabd2b13d75a/tensorboard-2.0.2-py3-none-any.whl (3.8MB)\n",
            "\u001b[K     |████████████████████████████████| 3.8MB 37.0MB/s \n",
            "\u001b[?25hRequirement already satisfied: astor>=0.6.0 in /usr/local/lib/python3.6/dist-packages (from tensorflow<2.1.0,>=2.0.0->tensorflow-io-nightly) (0.8.0)\n",
            "Requirement already satisfied: wrapt>=1.11.1 in /usr/local/lib/python3.6/dist-packages (from tensorflow<2.1.0,>=2.0.0->tensorflow-io-nightly) (1.11.2)\n",
            "Requirement already satisfied: six>=1.10.0 in /usr/local/lib/python3.6/dist-packages (from tensorflow<2.1.0,>=2.0.0->tensorflow-io-nightly) (1.12.0)\n",
            "Requirement already satisfied: protobuf>=3.6.1 in /usr/local/lib/python3.6/dist-packages (from tensorflow<2.1.0,>=2.0.0->tensorflow-io-nightly) (3.10.0)\n",
            "Requirement already satisfied: grpcio>=1.8.6 in /usr/local/lib/python3.6/dist-packages (from tensorflow<2.1.0,>=2.0.0->tensorflow-io-nightly) (1.15.0)\n",
            "Requirement already satisfied: google-pasta>=0.1.6 in /usr/local/lib/python3.6/dist-packages (from tensorflow<2.1.0,>=2.0.0->tensorflow-io-nightly) (0.1.8)\n",
            "Requirement already satisfied: keras-preprocessing>=1.0.5 in /usr/local/lib/python3.6/dist-packages (from tensorflow<2.1.0,>=2.0.0->tensorflow-io-nightly) (1.1.0)\n",
            "Collecting tensorflow-estimator<2.1.0,>=2.0.0\n",
            "\u001b[?25l  Downloading https://files.pythonhosted.org/packages/fc/08/8b927337b7019c374719145d1dceba21a8bb909b93b1ad6f8fb7d22c1ca1/tensorflow_estimator-2.0.1-py2.py3-none-any.whl (449kB)\n",
            "\u001b[K     |████████████████████████████████| 450kB 38.8MB/s \n",
            "\u001b[?25hRequirement already satisfied: termcolor>=1.1.0 in /usr/local/lib/python3.6/dist-packages (from tensorflow<2.1.0,>=2.0.0->tensorflow-io-nightly) (1.1.0)\n",
            "Requirement already satisfied: wheel>=0.26 in /usr/local/lib/python3.6/dist-packages (from tensorflow<2.1.0,>=2.0.0->tensorflow-io-nightly) (0.33.6)\n",
            "Requirement already satisfied: gast==0.2.2 in /usr/local/lib/python3.6/dist-packages (from tensorflow<2.1.0,>=2.0.0->tensorflow-io-nightly) (0.2.2)\n",
            "Requirement already satisfied: opt-einsum>=2.3.2 in /usr/local/lib/python3.6/dist-packages (from tensorflow<2.1.0,>=2.0.0->tensorflow-io-nightly) (3.1.0)\n",
            "Requirement already satisfied: h5py in /usr/local/lib/python3.6/dist-packages (from keras-applications>=1.0.8->tensorflow<2.1.0,>=2.0.0->tensorflow-io-nightly) (2.8.0)\n",
            "Requirement already satisfied: requests<3,>=2.21.0 in /usr/local/lib/python3.6/dist-packages (from tensorboard<2.1.0,>=2.0.0->tensorflow<2.1.0,>=2.0.0->tensorflow-io-nightly) (2.21.0)\n",
            "Requirement already satisfied: setuptools>=41.0.0 in /usr/local/lib/python3.6/dist-packages (from tensorboard<2.1.0,>=2.0.0->tensorflow<2.1.0,>=2.0.0->tensorflow-io-nightly) (41.6.0)\n",
            "Requirement already satisfied: werkzeug>=0.11.15 in /usr/local/lib/python3.6/dist-packages (from tensorboard<2.1.0,>=2.0.0->tensorflow<2.1.0,>=2.0.0->tensorflow-io-nightly) (0.16.0)\n",
            "Collecting google-auth<2,>=1.6.3\n",
            "\u001b[?25l  Downloading https://files.pythonhosted.org/packages/7b/cb/786dc53d93494784935a62947643b48250b84a882474e714f9af5e1a1928/google_auth-1.7.1-py2.py3-none-any.whl (74kB)\n",
            "\u001b[K     |████████████████████████████████| 81kB 10.1MB/s \n",
            "\u001b[?25hRequirement already satisfied: markdown>=2.6.8 in /usr/local/lib/python3.6/dist-packages (from tensorboard<2.1.0,>=2.0.0->tensorflow<2.1.0,>=2.0.0->tensorflow-io-nightly) (3.1.1)\n",
            "Requirement already satisfied: google-auth-oauthlib<0.5,>=0.4.1 in /usr/local/lib/python3.6/dist-packages (from tensorboard<2.1.0,>=2.0.0->tensorflow<2.1.0,>=2.0.0->tensorflow-io-nightly) (0.4.1)\n",
            "Requirement already satisfied: certifi>=2017.4.17 in /usr/local/lib/python3.6/dist-packages (from requests<3,>=2.21.0->tensorboard<2.1.0,>=2.0.0->tensorflow<2.1.0,>=2.0.0->tensorflow-io-nightly) (2019.9.11)\n",
            "Requirement already satisfied: chardet<3.1.0,>=3.0.2 in /usr/local/lib/python3.6/dist-packages (from requests<3,>=2.21.0->tensorboard<2.1.0,>=2.0.0->tensorflow<2.1.0,>=2.0.0->tensorflow-io-nightly) (3.0.4)\n",
            "Requirement already satisfied: idna<2.9,>=2.5 in /usr/local/lib/python3.6/dist-packages (from requests<3,>=2.21.0->tensorboard<2.1.0,>=2.0.0->tensorflow<2.1.0,>=2.0.0->tensorflow-io-nightly) (2.8)\n",
            "Requirement already satisfied: urllib3<1.25,>=1.21.1 in /usr/local/lib/python3.6/dist-packages (from requests<3,>=2.21.0->tensorboard<2.1.0,>=2.0.0->tensorflow<2.1.0,>=2.0.0->tensorflow-io-nightly) (1.24.3)\n",
            "Requirement already satisfied: rsa<4.1,>=3.1.4 in /usr/local/lib/python3.6/dist-packages (from google-auth<2,>=1.6.3->tensorboard<2.1.0,>=2.0.0->tensorflow<2.1.0,>=2.0.0->tensorflow-io-nightly) (4.0)\n",
            "Requirement already satisfied: pyasn1-modules>=0.2.1 in /usr/local/lib/python3.6/dist-packages (from google-auth<2,>=1.6.3->tensorboard<2.1.0,>=2.0.0->tensorflow<2.1.0,>=2.0.0->tensorflow-io-nightly) (0.2.7)\n",
            "Requirement already satisfied: cachetools<3.2,>=2.0.0 in /usr/local/lib/python3.6/dist-packages (from google-auth<2,>=1.6.3->tensorboard<2.1.0,>=2.0.0->tensorflow<2.1.0,>=2.0.0->tensorflow-io-nightly) (3.1.1)\n",
            "Requirement already satisfied: requests-oauthlib>=0.7.0 in /usr/local/lib/python3.6/dist-packages (from google-auth-oauthlib<0.5,>=0.4.1->tensorboard<2.1.0,>=2.0.0->tensorflow<2.1.0,>=2.0.0->tensorflow-io-nightly) (1.3.0)\n",
            "Requirement already satisfied: pyasn1>=0.1.3 in /usr/local/lib/python3.6/dist-packages (from rsa<4.1,>=3.1.4->google-auth<2,>=1.6.3->tensorboard<2.1.0,>=2.0.0->tensorflow<2.1.0,>=2.0.0->tensorflow-io-nightly) (0.4.7)\n",
            "Requirement already satisfied: oauthlib>=3.0.0 in /usr/local/lib/python3.6/dist-packages (from requests-oauthlib>=0.7.0->google-auth-oauthlib<0.5,>=0.4.1->tensorboard<2.1.0,>=2.0.0->tensorflow<2.1.0,>=2.0.0->tensorflow-io-nightly) (3.1.0)\n",
            "\u001b[31mERROR: tensorboard 2.0.2 has requirement grpcio>=1.24.3, but you'll have grpcio 1.15.0 which is incompatible.\u001b[0m\n",
            "\u001b[31mERROR: google-colab 1.0.0 has requirement google-auth~=1.4.0, but you'll have google-auth 1.7.1 which is incompatible.\u001b[0m\n",
            "Installing collected packages: google-auth, tensorboard, tensorflow-estimator, tensorflow, tensorflow-io-nightly\n",
            "  Found existing installation: google-auth 1.4.2\n",
            "    Uninstalling google-auth-1.4.2:\n",
            "      Successfully uninstalled google-auth-1.4.2\n",
            "  Found existing installation: tensorboard 1.15.0\n",
            "    Uninstalling tensorboard-1.15.0:\n",
            "      Successfully uninstalled tensorboard-1.15.0\n",
            "  Found existing installation: tensorflow-estimator 1.15.1\n",
            "    Uninstalling tensorflow-estimator-1.15.1:\n",
            "      Successfully uninstalled tensorflow-estimator-1.15.1\n",
            "  Found existing installation: tensorflow 1.15.0\n",
            "    Uninstalling tensorflow-1.15.0:\n",
            "      Successfully uninstalled tensorflow-1.15.0\n",
            "Successfully installed google-auth-1.7.1 tensorboard-2.0.2 tensorflow-2.0.0 tensorflow-estimator-2.0.1 tensorflow-io-nightly-0.10.0.dev2254\n"
          ],
          "name": "stdout"
        },
        {
          "output_type": "display_data",
          "data": {
            "application/vnd.colab-display-data+json": {
              "pip_warning": {
                "packages": [
                  "google"
                ]
              }
            }
          },
          "metadata": {
            "tags": []
          }
        },
        {
          "output_type": "stream",
          "text": [
            "Requirement already up-to-date: tensorflow in /usr/local/lib/python3.6/dist-packages (2.0.0)\n",
            "Requirement already satisfied, skipping upgrade: protobuf>=3.6.1 in /usr/local/lib/python3.6/dist-packages (from tensorflow) (3.10.0)\n",
            "Requirement already satisfied, skipping upgrade: tensorflow-estimator<2.1.0,>=2.0.0 in /usr/local/lib/python3.6/dist-packages (from tensorflow) (2.0.1)\n",
            "Requirement already satisfied, skipping upgrade: astor>=0.6.0 in /usr/local/lib/python3.6/dist-packages (from tensorflow) (0.8.0)\n",
            "Requirement already satisfied, skipping upgrade: termcolor>=1.1.0 in /usr/local/lib/python3.6/dist-packages (from tensorflow) (1.1.0)\n",
            "Requirement already satisfied, skipping upgrade: wrapt>=1.11.1 in /usr/local/lib/python3.6/dist-packages (from tensorflow) (1.11.2)\n",
            "Requirement already satisfied, skipping upgrade: google-pasta>=0.1.6 in /usr/local/lib/python3.6/dist-packages (from tensorflow) (0.1.8)\n",
            "Requirement already satisfied, skipping upgrade: keras-preprocessing>=1.0.5 in /usr/local/lib/python3.6/dist-packages (from tensorflow) (1.1.0)\n",
            "Requirement already satisfied, skipping upgrade: numpy<2.0,>=1.16.0 in /usr/local/lib/python3.6/dist-packages (from tensorflow) (1.17.4)\n",
            "Requirement already satisfied, skipping upgrade: opt-einsum>=2.3.2 in /usr/local/lib/python3.6/dist-packages (from tensorflow) (3.1.0)\n",
            "Requirement already satisfied, skipping upgrade: wheel>=0.26 in /usr/local/lib/python3.6/dist-packages (from tensorflow) (0.33.6)\n",
            "Requirement already satisfied, skipping upgrade: six>=1.10.0 in /usr/local/lib/python3.6/dist-packages (from tensorflow) (1.12.0)\n",
            "Requirement already satisfied, skipping upgrade: tensorboard<2.1.0,>=2.0.0 in /usr/local/lib/python3.6/dist-packages (from tensorflow) (2.0.2)\n",
            "Requirement already satisfied, skipping upgrade: gast==0.2.2 in /usr/local/lib/python3.6/dist-packages (from tensorflow) (0.2.2)\n",
            "Requirement already satisfied, skipping upgrade: keras-applications>=1.0.8 in /usr/local/lib/python3.6/dist-packages (from tensorflow) (1.0.8)\n",
            "Requirement already satisfied, skipping upgrade: absl-py>=0.7.0 in /usr/local/lib/python3.6/dist-packages (from tensorflow) (0.8.1)\n",
            "Requirement already satisfied, skipping upgrade: grpcio>=1.8.6 in /usr/local/lib/python3.6/dist-packages (from tensorflow) (1.15.0)\n",
            "Requirement already satisfied, skipping upgrade: setuptools in /usr/local/lib/python3.6/dist-packages (from protobuf>=3.6.1->tensorflow) (41.6.0)\n",
            "Requirement already satisfied, skipping upgrade: google-auth<2,>=1.6.3 in /usr/local/lib/python3.6/dist-packages (from tensorboard<2.1.0,>=2.0.0->tensorflow) (1.7.1)\n",
            "Requirement already satisfied, skipping upgrade: markdown>=2.6.8 in /usr/local/lib/python3.6/dist-packages (from tensorboard<2.1.0,>=2.0.0->tensorflow) (3.1.1)\n",
            "Requirement already satisfied, skipping upgrade: werkzeug>=0.11.15 in /usr/local/lib/python3.6/dist-packages (from tensorboard<2.1.0,>=2.0.0->tensorflow) (0.16.0)\n",
            "Requirement already satisfied, skipping upgrade: requests<3,>=2.21.0 in /usr/local/lib/python3.6/dist-packages (from tensorboard<2.1.0,>=2.0.0->tensorflow) (2.21.0)\n",
            "Requirement already satisfied, skipping upgrade: google-auth-oauthlib<0.5,>=0.4.1 in /usr/local/lib/python3.6/dist-packages (from tensorboard<2.1.0,>=2.0.0->tensorflow) (0.4.1)\n",
            "Requirement already satisfied, skipping upgrade: h5py in /usr/local/lib/python3.6/dist-packages (from keras-applications>=1.0.8->tensorflow) (2.8.0)\n",
            "Requirement already satisfied, skipping upgrade: pyasn1-modules>=0.2.1 in /usr/local/lib/python3.6/dist-packages (from google-auth<2,>=1.6.3->tensorboard<2.1.0,>=2.0.0->tensorflow) (0.2.7)\n",
            "Requirement already satisfied, skipping upgrade: rsa<4.1,>=3.1.4 in /usr/local/lib/python3.6/dist-packages (from google-auth<2,>=1.6.3->tensorboard<2.1.0,>=2.0.0->tensorflow) (4.0)\n",
            "Requirement already satisfied, skipping upgrade: cachetools<3.2,>=2.0.0 in /usr/local/lib/python3.6/dist-packages (from google-auth<2,>=1.6.3->tensorboard<2.1.0,>=2.0.0->tensorflow) (3.1.1)\n",
            "Requirement already satisfied, skipping upgrade: urllib3<1.25,>=1.21.1 in /usr/local/lib/python3.6/dist-packages (from requests<3,>=2.21.0->tensorboard<2.1.0,>=2.0.0->tensorflow) (1.24.3)\n",
            "Requirement already satisfied, skipping upgrade: certifi>=2017.4.17 in /usr/local/lib/python3.6/dist-packages (from requests<3,>=2.21.0->tensorboard<2.1.0,>=2.0.0->tensorflow) (2019.9.11)\n",
            "Requirement already satisfied, skipping upgrade: chardet<3.1.0,>=3.0.2 in /usr/local/lib/python3.6/dist-packages (from requests<3,>=2.21.0->tensorboard<2.1.0,>=2.0.0->tensorflow) (3.0.4)\n",
            "Requirement already satisfied, skipping upgrade: idna<2.9,>=2.5 in /usr/local/lib/python3.6/dist-packages (from requests<3,>=2.21.0->tensorboard<2.1.0,>=2.0.0->tensorflow) (2.8)\n",
            "Requirement already satisfied, skipping upgrade: requests-oauthlib>=0.7.0 in /usr/local/lib/python3.6/dist-packages (from google-auth-oauthlib<0.5,>=0.4.1->tensorboard<2.1.0,>=2.0.0->tensorflow) (1.3.0)\n",
            "Requirement already satisfied, skipping upgrade: pyasn1<0.5.0,>=0.4.6 in /usr/local/lib/python3.6/dist-packages (from pyasn1-modules>=0.2.1->google-auth<2,>=1.6.3->tensorboard<2.1.0,>=2.0.0->tensorflow) (0.4.7)\n",
            "Requirement already satisfied, skipping upgrade: oauthlib>=3.0.0 in /usr/local/lib/python3.6/dist-packages (from requests-oauthlib>=0.7.0->google-auth-oauthlib<0.5,>=0.4.1->tensorboard<2.1.0,>=2.0.0->tensorflow) (3.1.0)\n",
            "Requirement already up-to-date: tensorboard in /usr/local/lib/python3.6/dist-packages (2.0.2)\n",
            "Requirement already satisfied, skipping upgrade: werkzeug>=0.11.15 in /usr/local/lib/python3.6/dist-packages (from tensorboard) (0.16.0)\n",
            "Requirement already satisfied, skipping upgrade: markdown>=2.6.8 in /usr/local/lib/python3.6/dist-packages (from tensorboard) (3.1.1)\n",
            "Requirement already satisfied, skipping upgrade: wheel>=0.26; python_version >= \"3\" in /usr/local/lib/python3.6/dist-packages (from tensorboard) (0.33.6)\n",
            "Requirement already satisfied, skipping upgrade: google-auth<2,>=1.6.3 in /usr/local/lib/python3.6/dist-packages (from tensorboard) (1.7.1)\n",
            "Requirement already satisfied, skipping upgrade: absl-py>=0.4 in /usr/local/lib/python3.6/dist-packages (from tensorboard) (0.8.1)\n",
            "Requirement already satisfied, skipping upgrade: setuptools>=41.0.0 in /usr/local/lib/python3.6/dist-packages (from tensorboard) (41.6.0)\n",
            "Requirement already satisfied, skipping upgrade: google-auth-oauthlib<0.5,>=0.4.1 in /usr/local/lib/python3.6/dist-packages (from tensorboard) (0.4.1)\n",
            "Requirement already satisfied, skipping upgrade: protobuf>=3.6.0 in /usr/local/lib/python3.6/dist-packages (from tensorboard) (3.10.0)\n",
            "Collecting grpcio>=1.24.3\n",
            "\u001b[?25l  Downloading https://files.pythonhosted.org/packages/27/28/280658104af767431cf25e397157c4f4a8724a446f9dd5a34dac9812e9c9/grpcio-1.25.0-cp36-cp36m-manylinux2010_x86_64.whl (2.4MB)\n",
            "\u001b[K     |████████████████████████████████| 2.4MB 5.0MB/s \n",
            "\u001b[?25hRequirement already satisfied, skipping upgrade: six>=1.10.0 in /usr/local/lib/python3.6/dist-packages (from tensorboard) (1.12.0)\n",
            "Requirement already satisfied, skipping upgrade: requests<3,>=2.21.0 in /usr/local/lib/python3.6/dist-packages (from tensorboard) (2.21.0)\n",
            "Requirement already satisfied, skipping upgrade: numpy>=1.12.0 in /usr/local/lib/python3.6/dist-packages (from tensorboard) (1.17.4)\n",
            "Requirement already satisfied, skipping upgrade: cachetools<3.2,>=2.0.0 in /usr/local/lib/python3.6/dist-packages (from google-auth<2,>=1.6.3->tensorboard) (3.1.1)\n",
            "Requirement already satisfied, skipping upgrade: rsa<4.1,>=3.1.4 in /usr/local/lib/python3.6/dist-packages (from google-auth<2,>=1.6.3->tensorboard) (4.0)\n",
            "Requirement already satisfied, skipping upgrade: pyasn1-modules>=0.2.1 in /usr/local/lib/python3.6/dist-packages (from google-auth<2,>=1.6.3->tensorboard) (0.2.7)\n",
            "Requirement already satisfied, skipping upgrade: requests-oauthlib>=0.7.0 in /usr/local/lib/python3.6/dist-packages (from google-auth-oauthlib<0.5,>=0.4.1->tensorboard) (1.3.0)\n",
            "Requirement already satisfied, skipping upgrade: chardet<3.1.0,>=3.0.2 in /usr/local/lib/python3.6/dist-packages (from requests<3,>=2.21.0->tensorboard) (3.0.4)\n",
            "Requirement already satisfied, skipping upgrade: certifi>=2017.4.17 in /usr/local/lib/python3.6/dist-packages (from requests<3,>=2.21.0->tensorboard) (2019.9.11)\n",
            "Requirement already satisfied, skipping upgrade: urllib3<1.25,>=1.21.1 in /usr/local/lib/python3.6/dist-packages (from requests<3,>=2.21.0->tensorboard) (1.24.3)\n",
            "Requirement already satisfied, skipping upgrade: idna<2.9,>=2.5 in /usr/local/lib/python3.6/dist-packages (from requests<3,>=2.21.0->tensorboard) (2.8)\n",
            "Requirement already satisfied, skipping upgrade: pyasn1>=0.1.3 in /usr/local/lib/python3.6/dist-packages (from rsa<4.1,>=3.1.4->google-auth<2,>=1.6.3->tensorboard) (0.4.7)\n",
            "Requirement already satisfied, skipping upgrade: oauthlib>=3.0.0 in /usr/local/lib/python3.6/dist-packages (from requests-oauthlib>=0.7.0->google-auth-oauthlib<0.5,>=0.4.1->tensorboard) (3.1.0)\n",
            "Installing collected packages: grpcio\n",
            "  Found existing installation: grpcio 1.15.0\n",
            "    Uninstalling grpcio-1.15.0:\n",
            "      Successfully uninstalled grpcio-1.15.0\n",
            "Successfully installed grpcio-1.25.0\n"
          ],
          "name": "stdout"
        },
        {
          "output_type": "display_data",
          "data": {
            "application/vnd.colab-display-data+json": {
              "pip_warning": {
                "packages": [
                  "grpc"
                ]
              }
            }
          },
          "metadata": {
            "tags": []
          }
        },
        {
          "output_type": "stream",
          "text": [
            "Collecting hyperdash\n",
            "  Downloading https://files.pythonhosted.org/packages/fb/a1/2606aa8a8c3bf083cb305dba3164cb00285f97db34080d63c22b6c413175/hyperdash-0.15.3.tar.gz\n",
            "Requirement already satisfied: requests in /usr/local/lib/python3.6/dist-packages (from hyperdash) (2.21.0)\n",
            "Requirement already satisfied: six>=1.10.0 in /usr/local/lib/python3.6/dist-packages (from hyperdash) (1.12.0)\n",
            "Requirement already satisfied: python-slugify in /usr/local/lib/python3.6/dist-packages (from hyperdash) (4.0.0)\n",
            "Requirement already satisfied: urllib3<1.25,>=1.21.1 in /usr/local/lib/python3.6/dist-packages (from requests->hyperdash) (1.24.3)\n",
            "Requirement already satisfied: certifi>=2017.4.17 in /usr/local/lib/python3.6/dist-packages (from requests->hyperdash) (2019.9.11)\n",
            "Requirement already satisfied: idna<2.9,>=2.5 in /usr/local/lib/python3.6/dist-packages (from requests->hyperdash) (2.8)\n",
            "Requirement already satisfied: chardet<3.1.0,>=3.0.2 in /usr/local/lib/python3.6/dist-packages (from requests->hyperdash) (3.0.4)\n",
            "Requirement already satisfied: text-unidecode>=1.3 in /usr/local/lib/python3.6/dist-packages (from python-slugify->hyperdash) (1.3)\n",
            "Building wheels for collected packages: hyperdash\n",
            "  Building wheel for hyperdash (setup.py) ... \u001b[?25l\u001b[?25hdone\n",
            "  Created wheel for hyperdash: filename=hyperdash-0.15.3-cp36-none-any.whl size=28553 sha256=5b24c1203509f76896c80b41c69a41e49c0312604f443b12676655c87e7f14ef\n",
            "  Stored in directory: /root/.cache/pip/wheels/62/5f/af/bbcaeb6570e4904c14fb4c1b70fee559a3788182ce4d104ce7\n",
            "Successfully built hyperdash\n",
            "Installing collected packages: hyperdash\n",
            "Successfully installed hyperdash-0.15.3\n"
          ],
          "name": "stdout"
        }
      ]
    },
    {
      "cell_type": "code",
      "metadata": {
        "id": "obZdO-SqElTw",
        "colab_type": "code",
        "colab": {}
      },
      "source": [
        "%load_ext tensorboard"
      ],
      "execution_count": null,
      "outputs": []
    },
    {
      "cell_type": "code",
      "metadata": {
        "id": "M5EQF8TjR9uv",
        "colab_type": "code",
        "colab": {}
      },
      "source": [
        "PROJECT_ID = '' # @param {type:'string'}\n",
        "BUCKET = '' # @param {type:'string'}"
      ],
      "execution_count": null,
      "outputs": []
    },
    {
      "cell_type": "code",
      "metadata": {
        "id": "cYgBx5tfqHYy",
        "colab_type": "code",
        "colab": {
          "base_uri": "https://localhost:8080/",
          "height": 141
        },
        "outputId": "a7a6f56d-ee07-40a8-9d1c-15770868d40a"
      },
      "source": [
        "import sys\n",
        "import time\n",
        "\n",
        "import tensorflow as tf\n",
        "import tensorflow_io.arrow as arrow_io\n",
        "from tensorflow_io.arrow.python.ops.arrow_dataset_ops import arrow_schema_to_tensor_types, arrow_to_tensor_type\n",
        "import pyarrow\n",
        "\n",
        "from google.cloud import bigquery\n",
        "from google.cloud import bigquery_storage_v1beta1\n",
        "from pyarrow import RecordBatchFileWriter, feather\n",
        "\n",
        "if 'google.colab' in sys.modules:\n",
        "  from google.colab import auth as google_auth\n",
        "  google_auth.authenticate_user()\n",
        "else:\n",
        "  import google.auth\n",
        "\n",
        "from hyperdash import monitor_cell\n",
        "!hyperdash signup --github"
      ],
      "execution_count": null,
      "outputs": [
        {
          "output_type": "stream",
          "text": [
            "Opening browser, please wait. If something goes wrong, press CTRL+C to cancel.\n",
            "\u001b[1m SSH'd into a remote machine, or just don't have access to a browser? Open this link in any browser and then copy/paste the provided access token: \u001b[4mhttps://hyperdash.io/oauth/github/start?state=client_cli_manual\u001b[0m \u001b[0m\n",
            "Waiting for Github OAuth to complete.\n",
            "If something goes wrong, press CTRL+C to cancel.\n",
            "Access token: QsY/G1hdW41RnroSgrBfUMMKqcebG9/dA7k2KjnMZuI=\n",
            "Successfully logged in! We also installed: wHicFRPl41ejE70y1GT29IC3ILXcarYCq7wBgiqK4J0= as your default API key\n"
          ],
          "name": "stdout"
        }
      ]
    },
    {
      "cell_type": "code",
      "metadata": {
        "id": "zXtO4Wm95qcF",
        "colab_type": "code",
        "colab": {}
      },
      "source": [
        "credentials = None\n",
        "if not 'google.colab' in sys.modules:\n",
        "  credentials, your_project_id = google.auth.default(\n",
        "      scopes=[\"https://www.googleapis.com/auth/cloud-platform\"]\n",
        "  )\n",
        "bqclient = bigquery.Client(project=PROJECT_ID)\n",
        "bqstorageclient = bigquery_storage_v1beta1.BigQueryStorageClient(credentials=credentials)"
      ],
      "execution_count": null,
      "outputs": []
    },
    {
      "cell_type": "code",
      "metadata": {
        "id": "gK25Vdvhq_nT",
        "colab_type": "code",
        "colab": {
          "base_uri": "https://localhost:8080/",
          "height": 118,
          "referenced_widgets": [
            "b8f22461507047068bfaa2c267ce2dc5",
            "5a1407991d4946c18fb62ac1a315e2e1",
            "547c96a580164c5b83488ea5384b9cf0",
            "48ff61096c78459dacf411e10cf3d63e",
            "092642d60de24a70ae7f8fe21632f378",
            "96b9cd986d5c4ba5a335402d68934e6c",
            "f0414677e50b4596a15e6227cff8f25c",
            "79c7949dd30e4958ba7bfc231a3716fb"
          ]
        },
        "outputId": "5439c8a3-243e-4409-d11f-f36abc92efbf"
      },
      "source": [
        "%%time\n",
        "query = \"\"\"\n",
        "SELECT \n",
        "  ifnull(trip_miles,0) trip_miles\n",
        "  ,ifnull(pickup_community_area,0) pickup_community_area\n",
        "  ,ifnull(dropoff_community_area,0) dropoff_community_area\n",
        "  ,ifnull(fare,0) fare\n",
        "  ,ifnull(tips,0) tips\n",
        "  ,ifnull(tolls,0) tolls\n",
        "  ,ifnull(extras,0) extras\n",
        "  ,ifnull(trip_total,0) trip_total\n",
        "  ,ifnull(pickup_latitude,0) pickup_latitude\n",
        "  ,ifnull(pickup_longitude,0) pickup_longitude\n",
        "  ,ifnull(dropoff_latitude, 0) dropoff_latitude\n",
        "  ,ifnull(dropoff_longitude,0) dropoff_longitude\n",
        "FROM `bigquery-public-data.chicago_taxi_trips.taxi_trips`\n",
        "WHERE MOD(ABS(FARM_FINGERPRINT(unique_key)), 100) < 5\n",
        "\"\"\"\n",
        "start = time.time()\n",
        "result = bqclient.query(query).result()\n",
        "arrow_table = result.to_arrow(progress_bar_type='tqdm_notebook', bqstorage_client=bqstorageclient)\n",
        "arrow_df = arrow_table.to_pandas()\n",
        "end = time.time()\n",
        "print(f'running time: {end-start}')"
      ],
      "execution_count": null,
      "outputs": [
        {
          "output_type": "display_data",
          "data": {
            "application/vnd.jupyter.widget-view+json": {
              "model_id": "b8f22461507047068bfaa2c267ce2dc5",
              "version_minor": 0,
              "version_major": 2
            },
            "text/plain": [
              "HBox(children=(IntProgress(value=0, description='Downloading', max=9419696, style=ProgressStyle(description_wi…"
            ]
          },
          "metadata": {
            "tags": []
          }
        },
        {
          "output_type": "stream",
          "text": [
            "\n",
            "running time: 251.46856594085693\n",
            "CPU times: user 15 s, sys: 2.97 s, total: 17.9 s\n",
            "Wall time: 4min 11s\n"
          ],
          "name": "stdout"
        }
      ]
    },
    {
      "cell_type": "code",
      "metadata": {
        "id": "zfyQV6y5YJCV",
        "colab_type": "code",
        "colab": {
          "base_uri": "https://localhost:8080/",
          "height": 52
        },
        "outputId": "18c7fed9-a48b-40d5-aa0c-360f385425a7"
      },
      "source": [
        "%%time\n",
        "df = arrow_table.to_pandas()"
      ],
      "execution_count": null,
      "outputs": [
        {
          "output_type": "stream",
          "text": [
            "CPU times: user 288 ms, sys: 266 ms, total: 554 ms\n",
            "Wall time: 146 ms\n"
          ],
          "name": "stdout"
        }
      ]
    },
    {
      "cell_type": "code",
      "metadata": {
        "id": "iB_SGyH_6Zzt",
        "colab_type": "code",
        "colab": {
          "base_uri": "https://localhost:8080/",
          "height": 118,
          "referenced_widgets": [
            "022b313e73004d68821800a101fc0809",
            "d44e12ac842b465daf6d5f845827e45c",
            "6b89bb9b246948509e1dc942e1c66543",
            "1e5c20627b0a4248ba3e416eb705ba13",
            "68f5cc1f55c8429d829d9249dbad6124",
            "4b35b671ec484b5eb1023adbd1837bb6",
            "53739d4d068d47e6a87e7dae0a5974c5",
            "1501d1bbf3a64426a5a9a9727fbc39ab"
          ]
        },
        "outputId": "d93c8fe7-efd8-49af-f2f7-c838edcc5ea7"
      },
      "source": [
        "%%time\n",
        "query = \"\"\"\n",
        "SELECT \n",
        "  ifnull(trip_miles,0) trip_miles\n",
        "  ,ifnull(pickup_community_area,0) pickup_community_area\n",
        "  ,ifnull(dropoff_community_area,0) dropoff_community_area\n",
        "  ,ifnull(fare,0) fare\n",
        "  ,ifnull(tips,0) tips\n",
        "  ,ifnull(tolls,0) tolls\n",
        "  ,ifnull(extras,0) extras\n",
        "  ,ifnull(trip_total,0) trip_total\n",
        "  ,ifnull(pickup_latitude,0) pickup_latitude\n",
        "  ,ifnull(pickup_longitude,0) pickup_longitude\n",
        "  ,ifnull(dropoff_latitude, 0) dropoff_latitude\n",
        "  ,ifnull(dropoff_longitude,0) dropoff_longitude\n",
        "FROM `bigquery-public-data.chicago_taxi_trips.taxi_trips`\n",
        "WHERE MOD(ABS(FARM_FINGERPRINT(unique_key)), 100) < 5\n",
        "\"\"\"\n",
        "start = time.time()\n",
        "result = bqclient.query(query).result()\n",
        "df = result.to_dataframe(progress_bar_type='tqdm_notebook', bqstorage_client=bqstorageclient)\n",
        "end = time.time()\n",
        "print(f'running time: {end-start}')"
      ],
      "execution_count": null,
      "outputs": [
        {
          "output_type": "display_data",
          "data": {
            "application/vnd.jupyter.widget-view+json": {
              "model_id": "022b313e73004d68821800a101fc0809",
              "version_minor": 0,
              "version_major": 2
            },
            "text/plain": [
              "HBox(children=(IntProgress(value=0, description='Downloading', max=9419696, style=ProgressStyle(description_wi…"
            ]
          },
          "metadata": {
            "tags": []
          }
        },
        {
          "output_type": "stream",
          "text": [
            "\n",
            "running time: 255.28152012825012\n",
            "CPU times: user 35.4 s, sys: 4.43 s, total: 39.8 s\n",
            "Wall time: 4min 15s\n"
          ],
          "name": "stdout"
        }
      ]
    },
    {
      "cell_type": "code",
      "metadata": {
        "id": "dMvsjnn6clAE",
        "colab_type": "code",
        "colab": {
          "base_uri": "https://localhost:8080/",
          "height": 52
        },
        "outputId": "3e51f195-c325-4ab8-bd7e-e0f9c9fffbc5"
      },
      "source": [
        "%%time\n",
        "%%bigquery --project $PROJECT_ID magic_command_df\n",
        "SELECT \n",
        "  ifnull(trip_miles,0) trip_miles\n",
        "  ,ifnull(pickup_community_area,0) pickup_community_area\n",
        "  ,ifnull(dropoff_community_area,0) dropoff_community_area\n",
        "  ,ifnull(fare,0) fare\n",
        "  ,ifnull(tips,0) tips\n",
        "  ,ifnull(tolls,0) tolls\n",
        "  ,ifnull(extras,0) extras\n",
        "  ,ifnull(trip_total,0) trip_total\n",
        "  ,ifnull(pickup_latitude,0) pickup_latitude\n",
        "  ,ifnull(pickup_longitude,0) pickup_longitude\n",
        "  ,ifnull(dropoff_latitude, 0) dropoff_latitude\n",
        "  ,ifnull(dropoff_longitude,0) dropoff_longitude\n",
        "FROM `bigquery-public-data.chicago_taxi_trips.taxi_trips`\n",
        "WHERE MOD(ABS(FARM_FINGERPRINT(unique_key)), 100) < 5"
      ],
      "execution_count": null,
      "outputs": [
        {
          "output_type": "stream",
          "text": [
            "CPU times: user 5min 56s, sys: 17.6 s, total: 6min 14s\n",
            "Wall time: 18min 35s\n"
          ],
          "name": "stdout"
        }
      ]
    },
    {
      "cell_type": "markdown",
      "metadata": {
        "id": "0NyAXBojZjyF",
        "colab_type": "text"
      },
      "source": [
        "# ストレージに保存"
      ]
    },
    {
      "cell_type": "markdown",
      "metadata": {
        "id": "Su_CjaGXg32O",
        "colab_type": "text"
      },
      "source": [
        "### CSVに保存"
      ]
    },
    {
      "cell_type": "code",
      "metadata": {
        "id": "1OMFvHYPg2h3",
        "colab_type": "code",
        "cellView": "both",
        "colab": {}
      },
      "source": [
        "# @title CSVとして保存\n",
        "# %%time\n",
        "# df.to_csv('dataset.csv', index=False)\n",
        "# !gsutil cp dataset.csv gs://${BUCKET}/arrow_test/dataset.csv"
      ],
      "execution_count": null,
      "outputs": []
    },
    {
      "cell_type": "code",
      "metadata": {
        "id": "_Kx1-L1cZi63",
        "colab_type": "code",
        "cellView": "both",
        "colab": {}
      },
      "source": [
        "# @title BatchRecordとして保存\n",
        "# with pyarrow.OSFile('dataset.arrow', 'wb') as sink:\n",
        "#   schema = arrow_table.schema\n",
        "#   writer = RecordBatchFileWriter(sink, schema)\n",
        "#   writer.write_table(arrow_table, 128)\n",
        "#   writer.close()\n",
        "#   !gsutil cp dataset.arrow gs://${BUCKET}/arrow_test/dataset.arrow"
      ],
      "execution_count": null,
      "outputs": []
    },
    {
      "cell_type": "code",
      "metadata": {
        "id": "AopiHvGCyWNK",
        "colab_type": "code",
        "colab": {}
      },
      "source": [
        "# @title Featherとして保存\n",
        "# feather.write_feather(arrow_df, dest='dataset.feather')\n",
        "# !gsutil cp dataset.csv gs://${BUCKET}/arrow_test/dataset.feather"
      ],
      "execution_count": null,
      "outputs": []
    },
    {
      "cell_type": "markdown",
      "metadata": {
        "id": "0Tj88cLL--X5",
        "colab_type": "text"
      },
      "source": [
        "# 監視用のCallbackと訓練メソッドの準備"
      ]
    },
    {
      "cell_type": "code",
      "metadata": {
        "id": "3X4s3ylu-9tF",
        "colab_type": "code",
        "colab": {}
      },
      "source": [
        "from tensorflow.keras.callbacks import Callback\n",
        "from hyperdash import Experiment\n",
        "\n",
        "# https://qiita.com/shoji9x9/items/896204303a7a56321d4c よりお借りしました\n",
        "class Hyperdash(Callback):\n",
        "    def __init__(self, entries, exp):\n",
        "        super(Hyperdash, self).__init__()\n",
        "        self.entries = entries\n",
        "        self.exp = exp\n",
        "\n",
        "    def on_epoch_end(self, epoch, logs=None):\n",
        "        for entry in self.entries:\n",
        "            log = logs.get(entry)            \n",
        "            if log is not None:\n",
        "                self.exp.metric(entry, log)"
      ],
      "execution_count": null,
      "outputs": []
    },
    {
      "cell_type": "code",
      "metadata": {
        "id": "pkueSodx_843",
        "colab_type": "code",
        "colab": {}
      },
      "source": [
        "def train(experiment_name, tb_log_path='tf_logs', dataset=None):\n",
        "  tf.keras.backend.clear_session()\n",
        "  exp = Experiment(experiment_name)\n",
        "  try:\n",
        "    tb_callback = tf.keras.callbacks.TensorBoard(log_dir=tb_log_path)\n",
        "    hd_callback = Hyperdash([\"mae\", \"mse\"], exp)\n",
        "  \n",
        "    model = tf.keras.Sequential()\n",
        "    model.add(tf.keras.layers.Dense(6, input_shape=(11,), activation='relu'))\n",
        "    model.add(tf.keras.layers.BatchNormalization())\n",
        "    model.add(tf.keras.layers.Dense(3, activation='relu'))\n",
        "    model.add(tf.keras.layers.BatchNormalization())\n",
        "    model.add(tf.keras.layers.Dense(1))\n",
        "    optimizer = tf.keras.optimizers.Adam(amsgrad=True)\n",
        "    model.compile(optimizer=optimizer, loss='mean_squared_error', metrics=['mse', 'mae'])\n",
        "    # This builds the model for the first time:\n",
        "    model.fit(dataset, epochs=5, callbacks=[tb_callback, hd_callback])\n",
        "  finally:\n",
        "    exp.end()"
      ],
      "execution_count": null,
      "outputs": []
    },
    {
      "cell_type": "code",
      "metadata": {
        "id": "UPHEI429JtrB",
        "colab_type": "code",
        "colab": {}
      },
      "source": [
        "columns = ['trip_miles','pickup_community_area',\n",
        "                 'dropoff_community_area', 'fare','tips','tolls',\n",
        "                 'extras','trip_total', 'pickup_latitude', \n",
        "                 'pickup_longitude', 'dropoff_latitude',\n",
        "                 'dropoff_longitude']"
      ],
      "execution_count": null,
      "outputs": []
    },
    {
      "cell_type": "markdown",
      "metadata": {
        "id": "Afi1WPcdx-oG",
        "colab_type": "text"
      },
      "source": [
        "# メモリからの訓練"
      ]
    },
    {
      "cell_type": "markdown",
      "metadata": {
        "id": "MpD8bXuVDRZP",
        "colab_type": "text"
      },
      "source": [
        "## Arrow Table Dataset"
      ]
    },
    {
      "cell_type": "code",
      "metadata": {
        "id": "BH45kJNOg3fg",
        "colab_type": "code",
        "colab": {}
      },
      "source": [
        "def preprocess(*data):\n",
        "  feature = {c: element for c, element in zip(columns, data)}\n",
        "  label = feature.pop('tips')\n",
        "  feature = tf.stack([tf.cast(feature[c], tf.float64) for c in columns if c in feature], axis=1)\n",
        "  \n",
        "  return feature, label "
      ],
      "execution_count": null,
      "outputs": []
    },
    {
      "cell_type": "code",
      "metadata": {
        "id": "ES32j_HEFPaW",
        "colab_type": "code",
        "colab": {
          "base_uri": "https://localhost:8080/",
          "height": 72
        },
        "outputId": "236ceaa2-14da-40dd-bf8e-740f43538b9c"
      },
      "source": [
        "%%monitor_cell create_arrow_dataset\n",
        "arrow_dataset = arrow_io.ArrowDataset.from_record_batches(\n",
        "    arrow_table.to_batches(128), batch_mode='auto', \n",
        "    output_types=tuple([type for type in arrow_schema_to_tensor_types(arrow_table.schema)[0]],),\n",
        "    output_shapes=tuple([shape for shape in arrow_schema_to_tensor_types(arrow_table.schema)[1]])\n",
        "    )\n",
        "arrow_dataset = arrow_dataset.map(preprocess)"
      ],
      "execution_count": null,
      "outputs": [
        {
          "output_type": "stream",
          "text": [
            "{'output_shapes': [TensorShape([None]), TensorShape([None]), TensorShape([None]), TensorShape([None]), TensorShape([None]), TensorShape([None]), TensorShape([None]), TensorShape([None]), TensorShape([None]), TensorShape([None]), TensorShape([None]), TensorShape([None])], 'output_types': [tf.float64, tf.int64, tf.int64, tf.float64, tf.float64, tf.float64, tf.float64, tf.float64, tf.float64, tf.float64, tf.float64, tf.float64]}\n",
            "This run of create_arrow_dataset ran for 0:00:01 and logs are available locally at: /root/.hyperdash/logs/create-arrow-dataset/create-arrow-dataset_2019-12-03t22-47-56-160080.log\n"
          ],
          "name": "stdout"
        }
      ]
    },
    {
      "cell_type": "code",
      "metadata": {
        "id": "IsCItCkBgXFK",
        "colab_type": "code",
        "colab": {
          "base_uri": "https://localhost:8080/",
          "height": 55
        },
        "outputId": "2de7d50b-cd9e-4745-98db-1bb96aa0ef97"
      },
      "source": [
        "%%monitor_cell \"apache_arrow_dataset_loop_time\"\n",
        "for data in arrow_dataset:\n",
        "  pass"
      ],
      "execution_count": null,
      "outputs": [
        {
          "output_type": "stream",
          "text": [
            "This run of \"apache_arrow_dataset_loop_time\" ran for 0:00:30 and logs are available locally at: /root/.hyperdash/logs/apache-arrow-dataset-loop-time/apache-arrow-dataset-loop-time_2019-12-03t10-29-58-690346.log\n"
          ],
          "name": "stdout"
        }
      ]
    },
    {
      "cell_type": "code",
      "metadata": {
        "id": "HRbe6uJNFqdg",
        "colab_type": "code",
        "colab": {
          "base_uri": "https://localhost:8080/",
          "height": 400
        },
        "outputId": "c5689984-51f8-47f4-fae8-e9d0b88b77fd"
      },
      "source": [
        "train('arrow_table_training', 'tf_log/arrow_table', arrow_dataset)"
      ],
      "execution_count": null,
      "outputs": [
        {
          "output_type": "stream",
          "text": [
            "Epoch 1/5\n",
            "  73592/Unknown - 377s 5ms/step - loss: 3.3354 - mse: 3.3354 - mae: 0.9865| mae:   0.986465 |\n",
            "| mse:   3.335444 |\n",
            "73592/73592 [==============================] - 377s 5ms/step - loss: 3.3354 - mse: 3.3354 - mae: 0.9865\n",
            "Epoch 2/5\n",
            "73572/73592 [============================>.] - ETA: 0s - loss: 3.0584 - mse: 3.0584 - mae: 0.9517| mae:   0.951640 |\n",
            "| mse:   3.057893 |\n",
            "73592/73592 [==============================] - 185s 3ms/step - loss: 3.0579 - mse: 3.0579 - mae: 0.9516\n",
            "Epoch 3/5\n",
            "73584/73592 [============================>.] - ETA: 0s - loss: 3.0014 - mse: 3.0014 - mae: 0.9436| mae:   0.943528 |\n",
            "| mse:   3.001151 |\n",
            "73592/73592 [==============================] - 184s 3ms/step - loss: 3.0012 - mse: 3.0012 - mae: 0.9435\n",
            "Epoch 4/5\n",
            "73579/73592 [============================>.] - ETA: 0s - loss: 2.8333 - mse: 2.8333 - mae: 0.9326| mae:   0.932492 |\n",
            "| mse:   2.832904 |\n",
            "73592/73592 [==============================] - 188s 3ms/step - loss: 2.8329 - mse: 2.8329 - mae: 0.9325\n",
            "Epoch 5/5\n",
            "73572/73592 [============================>.] - ETA: 0s - loss: 2.7069 - mse: 2.7069 - mae: 0.9288| mae:   0.928672 |\n",
            "| mse:   2.706385 |\n",
            "73592/73592 [==============================] - 189s 3ms/step - loss: 2.7064 - mse: 2.7064 - mae: 0.9287\n",
            "This run of arrow_table_training ran for 0:18:43 and logs are available locally at: /root/.hyperdash/logs/arrow-table-training/arrow-table-training_2019-12-03t10-30-30-042457.log\n"
          ],
          "name": "stdout"
        }
      ]
    },
    {
      "cell_type": "markdown",
      "metadata": {
        "id": "ojiVswKnDTik",
        "colab_type": "text"
      },
      "source": [
        "## Pandas DataFrame "
      ]
    },
    {
      "cell_type": "code",
      "metadata": {
        "id": "IwsJjj1G8yln",
        "colab_type": "code",
        "colab": {}
      },
      "source": [
        "columns_oriented_array = tuple([d for d in df.values.T])"
      ],
      "execution_count": null,
      "outputs": []
    },
    {
      "cell_type": "code",
      "metadata": {
        "id": "seMruz5htKoH",
        "colab_type": "code",
        "colab": {
          "base_uri": "https://localhost:8080/",
          "height": 55
        },
        "outputId": "d10dca17-001e-4c45-9c5f-2d80ecd604e4"
      },
      "source": [
        "%%monitor_cell create_df_dataset\n",
        "df_dataset = tf.data.Dataset.from_tensor_slices(columns_oriented_array)\n",
        "df_dataset = df_dataset.batch(128).map(preprocess)"
      ],
      "execution_count": null,
      "outputs": [
        {
          "output_type": "stream",
          "text": [
            "This run of create_df_dataset ran for 0:00:00 and logs are available locally at: /root/.hyperdash/logs/create-df-dataset/create-df-dataset_2019-12-03t22-48-54-705006.log\n"
          ],
          "name": "stdout"
        }
      ]
    },
    {
      "cell_type": "code",
      "metadata": {
        "id": "ZpTypS5bEsJR",
        "colab_type": "code",
        "colab": {
          "base_uri": "https://localhost:8080/",
          "height": 400
        },
        "outputId": "c3581e82-b2ab-49f2-c49c-3117c373b257"
      },
      "source": [
        "train('pd_dataframe_training', 'tf_log/pandas_df', df_dataset)"
      ],
      "execution_count": null,
      "outputs": [
        {
          "output_type": "stream",
          "text": [
            "Epoch 1/5\n",
            "  73592/Unknown - 413s 6ms/step - loss: 2.5165 - mse: 2.5165 - mae: 0.9136| mae:   0.913622 |\n",
            "| mse:   2.516550 |\n",
            "73592/73592 [==============================] - 413s 6ms/step - loss: 2.5165 - mse: 2.5165 - mae: 0.9136\n",
            "Epoch 2/5\n",
            "73583/73592 [============================>.] - ETA: 0s - loss: 2.1537 - mse: 2.1537 - mae: 0.8804| mae:   0.880304 |\n",
            "| mse:   2.153501 |\n",
            "73592/73592 [==============================] - 219s 3ms/step - loss: 2.1535 - mse: 2.1535 - mae: 0.8803\n",
            "Epoch 3/5\n",
            "73581/73592 [============================>.] - ETA: 0s - loss: 2.1588 - mse: 2.1588 - mae: 0.8795| mae:   0.879382 |\n",
            "| mse:   2.158573 |\n",
            "73592/73592 [==============================] - 214s 3ms/step - loss: 2.1586 - mse: 2.1586 - mae: 0.8794\n",
            "Epoch 4/5\n",
            "73576/73592 [============================>.] - ETA: 0s - loss: 2.1227 - mse: 2.1227 - mae: 0.8822| mae:   0.882189 |\n",
            "| mse:   2.122396 |\n",
            "73592/73592 [==============================] - 217s 3ms/step - loss: 2.1224 - mse: 2.1224 - mae: 0.8822\n",
            "Epoch 5/5\n",
            "73591/73592 [============================>.] - ETA: 0s - loss: 2.1355 - mse: 2.1355 - mae: 0.8825| mae:   0.882477 |\n",
            "| mse:   2.135466 |\n",
            "73592/73592 [==============================] - 215s 3ms/step - loss: 2.1355 - mse: 2.1355 - mae: 0.8825\n",
            "This run of pd_dataframe_training ran for 0:21:19 and logs are available locally at: /root/.hyperdash/logs/pd-dataframe-training/pd-dataframe-training_2019-12-03t10-49-16-115387.log\n"
          ],
          "name": "stdout"
        }
      ]
    },
    {
      "cell_type": "code",
      "metadata": {
        "id": "2J53jl0xFbMK",
        "colab_type": "code",
        "colab": {
          "base_uri": "https://localhost:8080/",
          "height": 55
        },
        "outputId": "2b83c768-4689-42a1-cde8-b33f36e35fa0"
      },
      "source": [
        "%%monitor_cell \"df_dataset_loop_time\"\n",
        "for data in df_dataset:\n",
        "  pass"
      ],
      "execution_count": null,
      "outputs": [
        {
          "output_type": "stream",
          "text": [
            "This run of \"df_dataset_loop_time\" ran for 0:01:05 and logs are available locally at: /root/.hyperdash/logs/df-dataset-loop-time/df-dataset-loop-time_2019-12-03t11-10-36-295254.log\n"
          ],
          "name": "stdout"
        }
      ]
    },
    {
      "cell_type": "markdown",
      "metadata": {
        "id": "3H55vL8qY0RC",
        "colab_type": "text"
      },
      "source": [
        "# 外部ストレージからの訓練"
      ]
    },
    {
      "cell_type": "code",
      "metadata": {
        "id": "FwBUW_u05dOG",
        "colab_type": "code",
        "colab": {
          "base_uri": "https://localhost:8080/",
          "height": 35
        },
        "outputId": "fc03cdb7-e483-4ec4-c8bf-0644ee5efd12"
      },
      "source": [
        ""
      ],
      "execution_count": null,
      "outputs": [
        {
          "output_type": "stream",
          "text": [
            "-urushi\n"
          ],
          "name": "stdout"
        }
      ]
    },
    {
      "cell_type": "code",
      "metadata": {
        "id": "_1R_3ciDC-Wx",
        "colab_type": "code",
        "colab": {
          "base_uri": "https://localhost:8080/",
          "height": 121
        },
        "outputId": "a8001ae4-813a-4fde-a52a-3d9401e64ae7"
      },
      "source": [
        "! gsutil cp gs://$BUCKET/arrow_test/dataset.csv dataset.csv \n",
        "! gsutil cp  gs://$BUCKET/arrow_test/dataset.feather dataset.feather"
      ],
      "execution_count": null,
      "outputs": [
        {
          "output_type": "stream",
          "text": [
            "Copying gs://k-urushi/arrow_test/dataset.csv...\n",
            "\\ [1 files][719.4 MiB/719.4 MiB]                                                \n",
            "Operation completed over 1 objects/719.4 MiB.                                    \n",
            "Copying gs://k-urushi/arrow_test/dataset.feather...\n",
            "/ [1 files][862.4 MiB/862.4 MiB]   91.6 MiB/s                                   \n",
            "Operation completed over 1 objects/862.4 MiB.                                    \n"
          ],
          "name": "stdout"
        }
      ]
    },
    {
      "cell_type": "markdown",
      "metadata": {
        "id": "65Rk9UkRH_1X",
        "colab_type": "text"
      },
      "source": [
        "#CSVの訓練"
      ]
    },
    {
      "cell_type": "code",
      "metadata": {
        "id": "IEJeuJVlh7Ga",
        "colab_type": "code",
        "colab": {}
      },
      "source": [
        "def csv_preprocess(features):\n",
        "  labels = features.pop('tips')\n",
        "  return tf.stack([tf.cast(d, tf.float64) for d in features.values()], axis=-1), labels"
      ],
      "execution_count": null,
      "outputs": []
    },
    {
      "cell_type": "code",
      "metadata": {
        "id": "m0RToVae_BXg",
        "colab_type": "code",
        "colab": {
          "base_uri": "https://localhost:8080/",
          "height": 106
        },
        "outputId": "2fc4efa2-afa9-4ddd-c1e0-4ef886c7c849"
      },
      "source": [
        "%%monitor_cell create_csv_dataset\n",
        "csv_dataset = tf.data.experimental.make_csv_dataset(\n",
        "      'dataset.csv',\n",
        "      batch_size=128, # Artificially small to make examples easier to show.\n",
        "      num_epochs=1,\n",
        "      column_names=columns,\n",
        "      column_defaults = [0., 0, 0, 0., 0., 0., 0., 0., 0., 0., 0., 0.]).map(csv_preprocess)"
      ],
      "execution_count": null,
      "outputs": [
        {
          "output_type": "stream",
          "text": [
            "WARNING:tensorflow:From /usr/local/lib/python3.6/dist-packages/tensorflow_core/python/data/experimental/ops/readers.py:521: parallel_interleave (from tensorflow.python.data.experimental.ops.interleave_ops) is deprecated and will be removed in a future version.\n",
            "Instructions for updating:\n",
            "Use `tf.data.Dataset.interleave(map_func, cycle_length, block_length, num_parallel_calls=tf.data.experimental.AUTOTUNE)` instead. If sloppy execution is desired, use `tf.data.Options.experimental_determinstic`.\n",
            "This run of create_csv_dataset ran for 0:00:00 and logs are available locally at: /root/.hyperdash/logs/create-csv-dataset/create-csv-dataset_2019-12-03t22-49-00-352030.log\n"
          ],
          "name": "stdout"
        }
      ]
    },
    {
      "cell_type": "code",
      "metadata": {
        "id": "-FXG_tKU6TF_",
        "colab_type": "code",
        "colab": {
          "base_uri": "https://localhost:8080/",
          "height": 35
        },
        "outputId": "1e6fa331-33ff-47b1-89b1-c53410810298"
      },
      "source": [
        "%%monitor_cell loop_csv_dataset\n",
        "for data in csv_dataset:\n",
        "  pass"
      ],
      "execution_count": null,
      "outputs": [
        {
          "output_type": "stream",
          "text": [
            "This run of loop_csv_dataset ran for 0:01:22 and logs are available locally at: /root/.hyperdash/logs/loop-csv-dataset/loop-csv-dataset_2019-12-03t22-49-25-239877.log\n"
          ],
          "name": "stdout"
        }
      ]
    },
    {
      "cell_type": "code",
      "metadata": {
        "colab_type": "code",
        "id": "y231o1OU0U-D",
        "colab": {
          "base_uri": "https://localhost:8080/",
          "height": 380
        },
        "outputId": "ec440f79-090b-404a-97a8-b4b460b4b019"
      },
      "source": [
        "train('csv_training', 'tf_log/csv', csv_dataset)\n"
      ],
      "execution_count": null,
      "outputs": [
        {
          "output_type": "stream",
          "text": [
            "Epoch 1/5\n",
            "  73592/Unknown - 346s 5ms/step - loss: 0.8220 - mse: 0.8220 - mae: 0.3706| mae:   0.370589 |\n",
            "| mse:   0.822026 |\n",
            "73592/73592 [==============================] - 346s 5ms/step - loss: 0.8220 - mse: 0.8220 - mae: 0.3706\n",
            "Epoch 2/5\n",
            "73589/73592 [============================>.] - ETA: 0s - loss: 0.6232 - mse: 0.6232 - mae: 0.3848| mae:   0.384839 |\n",
            "| mse:   0.623189 |\n",
            "73592/73592 [==============================] - 184s 3ms/step - loss: 0.6232 - mse: 0.6232 - mae: 0.3848\n",
            "Epoch 3/5\n",
            "73588/73592 [============================>.] - ETA: 0s - loss: 0.5825 - mse: 0.5825 - mae: 0.3943| mae:   0.394267 |\n",
            "| mse:   0.582486 |\n",
            "73592/73592 [==============================] - 184s 3ms/step - loss: 0.5825 - mse: 0.5825 - mae: 0.3943\n",
            "Epoch 4/5\n",
            "73588/73592 [============================>.] - ETA: 0s - loss: 0.5643 - mse: 0.5643 - mae: 0.3997| mae:   0.399727 |\n",
            "| mse:   0.564330 |\n",
            "73592/73592 [==============================] - 185s 3ms/step - loss: 0.5643 - mse: 0.5643 - mae: 0.3997\n",
            "Epoch 5/5\n",
            "73572/73592 [============================>.] - ETA: 0s - loss: 0.5627 - mse: 0.5627 - mae: 0.4040| mae:   0.403973 |\n",
            "| mse:   0.562678 |\n",
            "73592/73592 [==============================] - 186s 3ms/step - loss: 0.5627 - mse: 0.5627 - mae: 0.4040\n",
            "This run of csv_training ran for 0:18:05 and logs are available locally at: /root/.hyperdash/logs/csv-training/csv-training_2019-12-03t11-12-11-910725.log\n"
          ],
          "name": "stdout"
        }
      ]
    },
    {
      "cell_type": "markdown",
      "metadata": {
        "id": "NhNv7adPZfqZ",
        "colab_type": "text"
      },
      "source": [
        "# featherからの読み込み"
      ]
    },
    {
      "cell_type": "code",
      "metadata": {
        "id": "YJlcmyGb4Yvt",
        "colab_type": "code",
        "colab": {}
      },
      "source": [
        "columns = ['trip_miles','pickup_community_area',\n",
        "           'dropoff_community_area', 'fare','tips','tolls',\n",
        "           'extras','trip_total', 'pickup_latitude', \n",
        "           'pickup_longitude', 'dropoff_latitude',\n",
        "           'dropoff_longitude']\n",
        "dtype=tuple([tf.float64, tf.int64, tf.int64, tf.float64, tf.float64, tf.float64, tf.float64, tf.float64, tf.float64, tf.float64, tf.float64, tf.float64])\n",
        "shape=tuple([[] for i in range(len(dtype))])"
      ],
      "execution_count": null,
      "outputs": []
    },
    {
      "cell_type": "code",
      "metadata": {
        "id": "AgQiI45CZh87",
        "colab_type": "code",
        "colab": {
          "base_uri": "https://localhost:8080/",
          "height": 72
        },
        "outputId": "444a7a39-4111-487e-992c-c62a89d49681"
      },
      "source": [
        "%%monitor_cell create_feather_dataset\n",
        "feather_dataset = arrow_io.ArrowFeatherDataset(\n",
        "    ['dataset.feather'],\n",
        "    columns=tuple([i for i in range(len(columns))]),\n",
        "    output_types=dtype,\n",
        "    output_shapes=shape,\n",
        "    batch_size=128)\n",
        "feather_dataset = feather_dataset.shuffle(buffer_size=10000).map(preprocess)"
      ],
      "execution_count": null,
      "outputs": [
        {
          "output_type": "stream",
          "text": [
            "{'output_shapes': [TensorShape([None]), TensorShape([None]), TensorShape([None]), TensorShape([None]), TensorShape([None]), TensorShape([None]), TensorShape([None]), TensorShape([None]), TensorShape([None]), TensorShape([None]), TensorShape([None]), TensorShape([None])], 'output_types': [tf.float64, tf.int64, tf.int64, tf.float64, tf.float64, tf.float64, tf.float64, tf.float64, tf.float64, tf.float64, tf.float64, tf.float64]}\n",
            "This run of create_feather_dataset ran for 0:00:00 and logs are available locally at: /root/.hyperdash/logs/create-feather-dataset/create-feather-dataset_2019-12-03t22-49-05-639368.log\n"
          ],
          "name": "stdout"
        }
      ]
    },
    {
      "cell_type": "code",
      "metadata": {
        "id": "PZxHJK7s6Z3E",
        "colab_type": "code",
        "colab": {
          "base_uri": "https://localhost:8080/",
          "height": 55
        },
        "outputId": "3af39560-13cb-4065-dc83-48e5dfa702d3"
      },
      "source": [
        "%%monitor_cell loop_feather_dataset\n",
        "for data in feather_dataset:\n",
        "  pass"
      ],
      "execution_count": null,
      "outputs": [
        {
          "output_type": "stream",
          "text": [
            "This run of loop_feather_dataset ran for 0:00:17 and logs are available locally at: /root/.hyperdash/logs/loop-feather-dataset/loop-feather-dataset_2019-12-03t22-50-50-289882.log\n"
          ],
          "name": "stdout"
        }
      ]
    },
    {
      "cell_type": "code",
      "metadata": {
        "id": "lS_hgNrzcJNU",
        "colab_type": "code",
        "colab": {
          "base_uri": "https://localhost:8080/",
          "height": 380
        },
        "outputId": "0a5ce1bf-345a-449d-a514-379c44d36c6c"
      },
      "source": [
        "train('feather_training', 'tf_log/feather', feather_dataset)"
      ],
      "execution_count": null,
      "outputs": [
        {
          "output_type": "stream",
          "text": [
            "Epoch 1/5\n",
            "  73592/Unknown - 366s 5ms/step - loss: 2.6416 - mse: 2.6417 - mae: 0.9396| mae:   0.939557 |\n",
            "| mse:   2.641657 |\n",
            "73592/73592 [==============================] - 366s 5ms/step - loss: 2.6416 - mse: 2.6417 - mae: 0.9396\n",
            "Epoch 2/5\n",
            "73583/73592 [============================>.] - ETA: 0s - loss: 2.1429 - mse: 2.1430 - mae: 0.8905| mae:   0.890533 |\n",
            "| mse:   2.142976 |\n",
            "73592/73592 [==============================] - 180s 2ms/step - loss: 2.1429 - mse: 2.1430 - mae: 0.8905\n",
            "Epoch 3/5\n",
            "73579/73592 [============================>.] - ETA: 0s - loss: 2.0174 - mse: 2.0174 - mae: 0.8719| mae:   0.871841 |\n",
            "| mse:   2.017188 |\n",
            "73592/73592 [==============================] - 180s 2ms/step - loss: 2.0172 - mse: 2.0172 - mae: 0.8718\n",
            "Epoch 4/5\n",
            "73589/73592 [============================>.] - ETA: 0s - loss: 2.0010 - mse: 2.0011 - mae: 0.8717| mae:   0.871736 |\n",
            "| mse:   2.001064 |\n",
            "73592/73592 [==============================] - 179s 2ms/step - loss: 2.0010 - mse: 2.0011 - mae: 0.8717\n",
            "Epoch 5/5\n",
            "73572/73592 [============================>.] - ETA: 0s - loss: 1.9848 - mse: 1.9848 - mae: 0.8704| mae:   0.870305 |\n",
            "| mse:   1.984527 |\n",
            "73592/73592 [==============================] - 180s 2ms/step - loss: 1.9845 - mse: 1.9845 - mae: 0.8703\n",
            "This run of feather_training ran for 0:18:05 and logs are available locally at: /root/.hyperdash/logs/feather-training/feather-training_2019-12-03t11-30-17-709183.log\n"
          ],
          "name": "stdout"
        }
      ]
    },
    {
      "cell_type": "code",
      "metadata": {
        "id": "a0BDQzs067hz",
        "colab_type": "code",
        "colab": {
          "base_uri": "https://localhost:8080/",
          "height": 17
        },
        "outputId": "6fa36d7b-95d2-43f7-8a62-b5e23eb2516b"
      },
      "source": [
        "%tensorboard --logdir tf_logs"
      ],
      "execution_count": null,
      "outputs": [
        {
          "output_type": "display_data",
          "data": {
            "text/html": [
              "\n",
              "    <div id=\"root\"></div>\n",
              "    <script>\n",
              "      (function() {\n",
              "        window.TENSORBOARD_ENV = window.TENSORBOARD_ENV || {};\n",
              "        window.TENSORBOARD_ENV[\"IN_COLAB\"] = true;\n",
              "        document.querySelector(\"base\").href = \"https://localhost:6006\";\n",
              "        function fixUpTensorboard(root) {\n",
              "          const tftb = root.querySelector(\"tf-tensorboard\");\n",
              "          // Disable the fragment manipulation behavior in Colab. Not\n",
              "          // only is the behavior not useful (as the iframe's location\n",
              "          // is not visible to the user), it causes TensorBoard's usage\n",
              "          // of `window.replace` to navigate away from the page and to\n",
              "          // the `localhost:<port>` URL specified by the base URI, which\n",
              "          // in turn causes the frame to (likely) crash.\n",
              "          tftb.removeAttribute(\"use-hash\");\n",
              "        }\n",
              "        function executeAllScripts(root) {\n",
              "          // When `script` elements are inserted into the DOM by\n",
              "          // assigning to an element's `innerHTML`, the scripts are not\n",
              "          // executed. Thus, we manually re-insert these scripts so that\n",
              "          // TensorBoard can initialize itself.\n",
              "          for (const script of root.querySelectorAll(\"script\")) {\n",
              "            const newScript = document.createElement(\"script\");\n",
              "            newScript.type = script.type;\n",
              "            newScript.textContent = script.textContent;\n",
              "            root.appendChild(newScript);\n",
              "            script.remove();\n",
              "          }\n",
              "        }\n",
              "        function setHeight(root, height) {\n",
              "          // We set the height dynamically after the TensorBoard UI has\n",
              "          // been initialized. This avoids an intermediate state in\n",
              "          // which the container plus the UI become taller than the\n",
              "          // final width and cause the Colab output frame to be\n",
              "          // permanently resized, eventually leading to an empty\n",
              "          // vertical gap below the TensorBoard UI. It's not clear\n",
              "          // exactly what causes this problematic intermediate state,\n",
              "          // but setting the height late seems to fix it.\n",
              "          root.style.height = `${height}px`;\n",
              "        }\n",
              "        const root = document.getElementById(\"root\");\n",
              "        fetch(\".\")\n",
              "          .then((x) => x.text())\n",
              "          .then((html) => void (root.innerHTML = html))\n",
              "          .then(() => fixUpTensorboard(root))\n",
              "          .then(() => executeAllScripts(root))\n",
              "          .then(() => setHeight(root, 800));\n",
              "      })();\n",
              "    </script>\n",
              "  "
            ],
            "text/plain": [
              "<IPython.core.display.HTML object>"
            ]
          },
          "metadata": {
            "tags": []
          }
        }
      ]
    },
    {
      "cell_type": "code",
      "metadata": {
        "id": "5Eo0tDW1Fc5k",
        "colab_type": "code",
        "colab": {}
      },
      "source": [
        ""
      ],
      "execution_count": null,
      "outputs": []
    }
  ]
}